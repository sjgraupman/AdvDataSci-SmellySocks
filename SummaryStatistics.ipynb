{
 "cells": [
  {
   "cell_type": "code",
   "execution_count": 1,
   "metadata": {},
   "outputs": [],
   "source": [
    "import pandas as pd\n",
    "import numpy as np\n",
    "import matplotlib as mpl\n",
    "import matplotlib.pyplot as plt\n",
    "%matplotlib inline  "
   ]
  },
  {
   "cell_type": "code",
   "execution_count": 2,
   "metadata": {},
   "outputs": [],
   "source": [
    "data = pd.read_csv('Sock_Data_Library_UPDATED.csv')"
   ]
  },
  {
   "cell_type": "code",
   "execution_count": 3,
   "metadata": {
    "scrolled": true
   },
   "outputs": [
    {
     "data": {
      "text/html": [
       "<div>\n",
       "<style scoped>\n",
       "    .dataframe tbody tr th:only-of-type {\n",
       "        vertical-align: middle;\n",
       "    }\n",
       "\n",
       "    .dataframe tbody tr th {\n",
       "        vertical-align: top;\n",
       "    }\n",
       "\n",
       "    .dataframe thead th {\n",
       "        text-align: right;\n",
       "    }\n",
       "</style>\n",
       "<table border=\"1\" class=\"dataframe\">\n",
       "  <thead>\n",
       "    <tr style=\"text-align: right;\">\n",
       "      <th></th>\n",
       "      <th>Row_Number</th>\n",
       "      <th>Time_Stamp</th>\n",
       "      <th>SockOwner1_Name</th>\n",
       "      <th>SockOwner1_Country</th>\n",
       "      <th>SockOwner1_Gender</th>\n",
       "      <th>SockOwner1_Age</th>\n",
       "      <th>SockOwner1_Smelliness</th>\n",
       "      <th>SockOwner2_Name</th>\n",
       "      <th>SockOwner2_Country</th>\n",
       "      <th>SockOwner2_Gender</th>\n",
       "      <th>SockOwner2_Age</th>\n",
       "      <th>SockOwner2_Smelliness</th>\n",
       "    </tr>\n",
       "  </thead>\n",
       "  <tbody>\n",
       "    <tr>\n",
       "      <th>0</th>\n",
       "      <td>1</td>\n",
       "      <td>12:59:14</td>\n",
       "      <td>Riccardo Mussotti</td>\n",
       "      <td>Laos</td>\n",
       "      <td>F</td>\n",
       "      <td>13</td>\n",
       "      <td>0.43</td>\n",
       "      <td>Irvin Murtimer</td>\n",
       "      <td>Israel</td>\n",
       "      <td>M</td>\n",
       "      <td>37</td>\n",
       "      <td>0.80</td>\n",
       "    </tr>\n",
       "    <tr>\n",
       "      <th>1</th>\n",
       "      <td>2</td>\n",
       "      <td>13:04:59</td>\n",
       "      <td>Jud Acock</td>\n",
       "      <td>China</td>\n",
       "      <td>M</td>\n",
       "      <td>8</td>\n",
       "      <td>0.16</td>\n",
       "      <td>Abey Rosita</td>\n",
       "      <td>Portugal</td>\n",
       "      <td>M</td>\n",
       "      <td>14</td>\n",
       "      <td>0.19</td>\n",
       "    </tr>\n",
       "    <tr>\n",
       "      <th>2</th>\n",
       "      <td>3</td>\n",
       "      <td>1:18:37</td>\n",
       "      <td>Udale Christene</td>\n",
       "      <td>Bulgaria</td>\n",
       "      <td>M</td>\n",
       "      <td>9</td>\n",
       "      <td>0.26</td>\n",
       "      <td>Tann Olney</td>\n",
       "      <td>Russia</td>\n",
       "      <td>M</td>\n",
       "      <td>9</td>\n",
       "      <td>0.21</td>\n",
       "    </tr>\n",
       "    <tr>\n",
       "      <th>3</th>\n",
       "      <td>4</td>\n",
       "      <td>9:33:33</td>\n",
       "      <td>Dionysus Gooderidge</td>\n",
       "      <td>Ethiopia</td>\n",
       "      <td>M</td>\n",
       "      <td>60</td>\n",
       "      <td>0.93</td>\n",
       "      <td>Vassily Symper</td>\n",
       "      <td>Indonesia</td>\n",
       "      <td>M</td>\n",
       "      <td>64</td>\n",
       "      <td>0.39</td>\n",
       "    </tr>\n",
       "    <tr>\n",
       "      <th>4</th>\n",
       "      <td>5</td>\n",
       "      <td>18:25:37</td>\n",
       "      <td>Kalvin De Antoni</td>\n",
       "      <td>Honduras</td>\n",
       "      <td>M</td>\n",
       "      <td>78</td>\n",
       "      <td>0.61</td>\n",
       "      <td>Tito Twyford</td>\n",
       "      <td>Brazil</td>\n",
       "      <td>M</td>\n",
       "      <td>16</td>\n",
       "      <td>0.57</td>\n",
       "    </tr>\n",
       "  </tbody>\n",
       "</table>\n",
       "</div>"
      ],
      "text/plain": [
       "   Row_Number Time_Stamp      SockOwner1_Name SockOwner1_Country  \\\n",
       "0           1   12:59:14    Riccardo Mussotti               Laos   \n",
       "1           2   13:04:59            Jud Acock              China   \n",
       "2           3    1:18:37      Udale Christene           Bulgaria   \n",
       "3           4    9:33:33  Dionysus Gooderidge           Ethiopia   \n",
       "4           5   18:25:37     Kalvin De Antoni           Honduras   \n",
       "\n",
       "  SockOwner1_Gender  SockOwner1_Age  SockOwner1_Smelliness SockOwner2_Name  \\\n",
       "0                 F              13                   0.43  Irvin Murtimer   \n",
       "1                 M               8                   0.16     Abey Rosita   \n",
       "2                 M               9                   0.26      Tann Olney   \n",
       "3                 M              60                   0.93  Vassily Symper   \n",
       "4                 M              78                   0.61    Tito Twyford   \n",
       "\n",
       "  SockOwner2_Country SockOwner2_Gender  SockOwner2_Age  SockOwner2_Smelliness  \n",
       "0             Israel                 M              37                   0.80  \n",
       "1           Portugal                 M              14                   0.19  \n",
       "2             Russia                 M               9                   0.21  \n",
       "3          Indonesia                 M              64                   0.39  \n",
       "4             Brazil                 M              16                   0.57  "
      ]
     },
     "execution_count": 3,
     "metadata": {},
     "output_type": "execute_result"
    }
   ],
   "source": [
    "data.head()"
   ]
  },
  {
   "cell_type": "code",
   "execution_count": 4,
   "metadata": {},
   "outputs": [],
   "source": [
    "sockOwner1 = data.rename(index = str, columns={\"SockOwner1_Name\": \"Name\", \"SockOwner1_Country\": \"Country\", \"SockOwner1_Gender\": \"Gender\", \"SockOwner1_Age\": \"Age\", \"SockOwner1_Smelliness\":\"Smelliness\"})\n",
    "sockOwner2 = data.rename(index = str, columns={\"SockOwner2_Name\": \"Name\", \"SockOwner2_Country\": \"Country\", \"SockOwner2_Gender\": \"Gender\", \"SockOwner2_Age\": \"Age\", \"SockOwner2_Smelliness\":\"Smelliness\"})"
   ]
  },
  {
   "cell_type": "code",
   "execution_count": 5,
   "metadata": {},
   "outputs": [
    {
     "data": {
      "text/html": [
       "<div>\n",
       "<style scoped>\n",
       "    .dataframe tbody tr th:only-of-type {\n",
       "        vertical-align: middle;\n",
       "    }\n",
       "\n",
       "    .dataframe tbody tr th {\n",
       "        vertical-align: top;\n",
       "    }\n",
       "\n",
       "    .dataframe thead th {\n",
       "        text-align: right;\n",
       "    }\n",
       "</style>\n",
       "<table border=\"1\" class=\"dataframe\">\n",
       "  <thead>\n",
       "    <tr style=\"text-align: right;\">\n",
       "      <th></th>\n",
       "      <th>Name</th>\n",
       "      <th>Country</th>\n",
       "      <th>Gender</th>\n",
       "      <th>Age</th>\n",
       "      <th>Smelliness</th>\n",
       "    </tr>\n",
       "  </thead>\n",
       "  <tbody>\n",
       "    <tr>\n",
       "      <th>0</th>\n",
       "      <td>Riccardo Mussotti</td>\n",
       "      <td>Laos</td>\n",
       "      <td>F</td>\n",
       "      <td>13</td>\n",
       "      <td>0.43</td>\n",
       "    </tr>\n",
       "    <tr>\n",
       "      <th>1</th>\n",
       "      <td>Jud Acock</td>\n",
       "      <td>China</td>\n",
       "      <td>M</td>\n",
       "      <td>8</td>\n",
       "      <td>0.16</td>\n",
       "    </tr>\n",
       "    <tr>\n",
       "      <th>2</th>\n",
       "      <td>Udale Christene</td>\n",
       "      <td>Bulgaria</td>\n",
       "      <td>M</td>\n",
       "      <td>9</td>\n",
       "      <td>0.26</td>\n",
       "    </tr>\n",
       "    <tr>\n",
       "      <th>3</th>\n",
       "      <td>Dionysus Gooderidge</td>\n",
       "      <td>Ethiopia</td>\n",
       "      <td>M</td>\n",
       "      <td>60</td>\n",
       "      <td>0.93</td>\n",
       "    </tr>\n",
       "    <tr>\n",
       "      <th>4</th>\n",
       "      <td>Kalvin De Antoni</td>\n",
       "      <td>Honduras</td>\n",
       "      <td>M</td>\n",
       "      <td>78</td>\n",
       "      <td>0.61</td>\n",
       "    </tr>\n",
       "  </tbody>\n",
       "</table>\n",
       "</div>"
      ],
      "text/plain": [
       "                  Name   Country Gender  Age  Smelliness\n",
       "0    Riccardo Mussotti      Laos      F   13        0.43\n",
       "1            Jud Acock     China      M    8        0.16\n",
       "2      Udale Christene  Bulgaria      M    9        0.26\n",
       "3  Dionysus Gooderidge  Ethiopia      M   60        0.93\n",
       "4     Kalvin De Antoni  Honduras      M   78        0.61"
      ]
     },
     "execution_count": 5,
     "metadata": {},
     "output_type": "execute_result"
    }
   ],
   "source": [
    "sockOwner1 = sockOwner1[['Name', 'Country', 'Gender', 'Age', 'Smelliness']]\n",
    "sockOwner1.head()"
   ]
  },
  {
   "cell_type": "code",
   "execution_count": 6,
   "metadata": {},
   "outputs": [
    {
     "data": {
      "text/html": [
       "<div>\n",
       "<style scoped>\n",
       "    .dataframe tbody tr th:only-of-type {\n",
       "        vertical-align: middle;\n",
       "    }\n",
       "\n",
       "    .dataframe tbody tr th {\n",
       "        vertical-align: top;\n",
       "    }\n",
       "\n",
       "    .dataframe thead th {\n",
       "        text-align: right;\n",
       "    }\n",
       "</style>\n",
       "<table border=\"1\" class=\"dataframe\">\n",
       "  <thead>\n",
       "    <tr style=\"text-align: right;\">\n",
       "      <th></th>\n",
       "      <th>Name</th>\n",
       "      <th>Country</th>\n",
       "      <th>Gender</th>\n",
       "      <th>Age</th>\n",
       "      <th>Smelliness</th>\n",
       "    </tr>\n",
       "  </thead>\n",
       "  <tbody>\n",
       "    <tr>\n",
       "      <th>0</th>\n",
       "      <td>Irvin Murtimer</td>\n",
       "      <td>Israel</td>\n",
       "      <td>M</td>\n",
       "      <td>37</td>\n",
       "      <td>0.80</td>\n",
       "    </tr>\n",
       "    <tr>\n",
       "      <th>1</th>\n",
       "      <td>Abey Rosita</td>\n",
       "      <td>Portugal</td>\n",
       "      <td>M</td>\n",
       "      <td>14</td>\n",
       "      <td>0.19</td>\n",
       "    </tr>\n",
       "    <tr>\n",
       "      <th>2</th>\n",
       "      <td>Tann Olney</td>\n",
       "      <td>Russia</td>\n",
       "      <td>M</td>\n",
       "      <td>9</td>\n",
       "      <td>0.21</td>\n",
       "    </tr>\n",
       "    <tr>\n",
       "      <th>3</th>\n",
       "      <td>Vassily Symper</td>\n",
       "      <td>Indonesia</td>\n",
       "      <td>M</td>\n",
       "      <td>64</td>\n",
       "      <td>0.39</td>\n",
       "    </tr>\n",
       "    <tr>\n",
       "      <th>4</th>\n",
       "      <td>Tito Twyford</td>\n",
       "      <td>Brazil</td>\n",
       "      <td>M</td>\n",
       "      <td>16</td>\n",
       "      <td>0.57</td>\n",
       "    </tr>\n",
       "  </tbody>\n",
       "</table>\n",
       "</div>"
      ],
      "text/plain": [
       "             Name    Country Gender  Age  Smelliness\n",
       "0  Irvin Murtimer     Israel      M   37        0.80\n",
       "1     Abey Rosita   Portugal      M   14        0.19\n",
       "2      Tann Olney     Russia      M    9        0.21\n",
       "3  Vassily Symper  Indonesia      M   64        0.39\n",
       "4    Tito Twyford     Brazil      M   16        0.57"
      ]
     },
     "execution_count": 6,
     "metadata": {},
     "output_type": "execute_result"
    }
   ],
   "source": [
    "sockOwner2 = sockOwner2[['Name', 'Country', 'Gender', 'Age', 'Smelliness']]\n",
    "sockOwner2.head()"
   ]
  },
  {
   "cell_type": "code",
   "execution_count": 7,
   "metadata": {},
   "outputs": [
    {
     "data": {
      "text/html": [
       "<div>\n",
       "<style scoped>\n",
       "    .dataframe tbody tr th:only-of-type {\n",
       "        vertical-align: middle;\n",
       "    }\n",
       "\n",
       "    .dataframe tbody tr th {\n",
       "        vertical-align: top;\n",
       "    }\n",
       "\n",
       "    .dataframe thead th {\n",
       "        text-align: right;\n",
       "    }\n",
       "</style>\n",
       "<table border=\"1\" class=\"dataframe\">\n",
       "  <thead>\n",
       "    <tr style=\"text-align: right;\">\n",
       "      <th></th>\n",
       "      <th>Name</th>\n",
       "      <th>Country</th>\n",
       "      <th>Gender</th>\n",
       "      <th>Age</th>\n",
       "      <th>Smelliness</th>\n",
       "    </tr>\n",
       "  </thead>\n",
       "  <tbody>\n",
       "    <tr>\n",
       "      <th>0</th>\n",
       "      <td>Riccardo Mussotti</td>\n",
       "      <td>Laos</td>\n",
       "      <td>F</td>\n",
       "      <td>13</td>\n",
       "      <td>0.43</td>\n",
       "    </tr>\n",
       "    <tr>\n",
       "      <th>1</th>\n",
       "      <td>Jud Acock</td>\n",
       "      <td>China</td>\n",
       "      <td>M</td>\n",
       "      <td>8</td>\n",
       "      <td>0.16</td>\n",
       "    </tr>\n",
       "    <tr>\n",
       "      <th>2</th>\n",
       "      <td>Udale Christene</td>\n",
       "      <td>Bulgaria</td>\n",
       "      <td>M</td>\n",
       "      <td>9</td>\n",
       "      <td>0.26</td>\n",
       "    </tr>\n",
       "    <tr>\n",
       "      <th>3</th>\n",
       "      <td>Dionysus Gooderidge</td>\n",
       "      <td>Ethiopia</td>\n",
       "      <td>M</td>\n",
       "      <td>60</td>\n",
       "      <td>0.93</td>\n",
       "    </tr>\n",
       "    <tr>\n",
       "      <th>4</th>\n",
       "      <td>Kalvin De Antoni</td>\n",
       "      <td>Honduras</td>\n",
       "      <td>M</td>\n",
       "      <td>78</td>\n",
       "      <td>0.61</td>\n",
       "    </tr>\n",
       "  </tbody>\n",
       "</table>\n",
       "</div>"
      ],
      "text/plain": [
       "                  Name   Country Gender  Age  Smelliness\n",
       "0    Riccardo Mussotti      Laos      F   13        0.43\n",
       "1            Jud Acock     China      M    8        0.16\n",
       "2      Udale Christene  Bulgaria      M    9        0.26\n",
       "3  Dionysus Gooderidge  Ethiopia      M   60        0.93\n",
       "4     Kalvin De Antoni  Honduras      M   78        0.61"
      ]
     },
     "execution_count": 7,
     "metadata": {},
     "output_type": "execute_result"
    }
   ],
   "source": [
    "data = sockOwner1.append(sockOwner2)\n",
    "data.head()"
   ]
  },
  {
   "cell_type": "code",
   "execution_count": 8,
   "metadata": {},
   "outputs": [
    {
     "data": {
      "image/png": "[encoded data removed]",
      "text/plain": [
       "<matplotlib.figure.Figure at 0x2b49f8da3c8>"
      ]
     },
     "metadata": {},
     "output_type": "display_data"
    }
   ],
   "source": [
    "props = dict(linewidth = 2, linestyle = '-', color = 'black')\n",
    "bp = data.boxplot(column = \"Smelliness\", by = \"Gender\", grid = False, return_type = 'dict')\n",
    "\n",
    "[[item.set_color('r') for item in bp[key]['medians']] for key in bp.keys()]\n",
    "[[item.set_linewidth(1.5) for item in bp[key]['medians']] for key in bp.keys()]\n",
    "[[item.set_linewidth(1.5) for item in bp[key]['boxes']] for key in bp.keys()]\n",
    "[[item.set_linewidth(1.5) for item in bp[key]['caps']] for key in bp.keys()]\n",
    "[[item.set_linewidth(1.5) for item in bp[key]['whiskers']] for key in bp.keys()]\n",
    "for line in bp['Smelliness']['medians']:\n",
    "    x, y = line.get_xydata()[0]\n",
    "    plt.text(x,y, '%.2f' % y,horizontalalignment= 'right', verticalalignment = 'top')"
   ]
  },
  {
   "cell_type": "code",
   "execution_count": 10,
   "metadata": {},
   "outputs": [
    {
     "data": {
      "text/plain": [
       "([<matplotlib.axis.XTick at 0x2b49fe9c898>,\n",
       "  <matplotlib.axis.XTick at 0x2b49fe9cf98>,\n",
       "  <matplotlib.axis.XTick at 0x2b49fea4390>,\n",
       "  <matplotlib.axis.XTick at 0x2b49fee34a8>,\n",
       "  <matplotlib.axis.XTick at 0x2b49fee3b00>,\n",
       "  <matplotlib.axis.XTick at 0x2b49fee8198>,\n",
       "  <matplotlib.axis.XTick at 0x2b49fee8828>,\n",
       "  <matplotlib.axis.XTick at 0x2b49fee8eb8>,\n",
       "  <matplotlib.axis.XTick at 0x2b49feee588>,\n",
       "  <matplotlib.axis.XTick at 0x2b49feeec18>,\n",
       "  <matplotlib.axis.XTick at 0x2b49fef42e8>],\n",
       " <a list of 11 Text xticklabel objects>)"
      ]
     },
     "execution_count": 10,
     "metadata": {},
     "output_type": "execute_result"
    },
    {
     "data": {
      "image/png": "[encoded data removed]",
      "text/plain": [
       "<matplotlib.figure.Figure at 0x2b49fe922b0>"
      ]
     },
     "metadata": {},
     "output_type": "display_data"
    }
   ],
   "source": [
    "age_data = data.Age\n",
    "plt.hist(age_data, normed=True, bins=[0, 10, 20, 30, 40, 50, 100])\n",
    "plt.title('Age Histogram');\n",
    "plt.ylabel('Probability');\n",
    "plt.xlabel('Age Group');\n",
    "plt.xticks(np.arange(0, max(age_data)+10, 10.0))"
   ]
  },
  {
   "cell_type": "code",
   "execution_count": 11,
   "metadata": {},
   "outputs": [
    {
     "data": {
      "image/png": "[encoded data removed]",
      "text/plain": [
       "<matplotlib.figure.Figure at 0x2b49fdf0be0>"
      ]
     },
     "metadata": {},
     "output_type": "display_data"
    }
   ],
   "source": [
    "gender_data = data.Gender\n",
    "plt.figure(figsize=(4,4))\n",
    "plt.hist(gender_data, rwidth=50)\n",
    "plt.title('Gender Histogram');\n",
    "plt.ylabel('Probability');\n",
    "plt.xlabel('Gender');"
   ]
  },
  {
   "cell_type": "code",
   "execution_count": null,
   "metadata": {},
   "outputs": [],
   "source": []
  }
 ],
 "metadata": {
  "kernelspec": {
   "display_name": "Python 3",
   "language": "python",
   "name": "python3"
  },
  "language_info": {
   "codemirror_mode": {
    "name": "ipython",
    "version": 3
   },
   "file_extension": ".py",
   "mimetype": "text/x-python",
   "name": "python",
   "nbconvert_exporter": "python",
   "pygments_lexer": "ipython3",
   "version": "3.6.4"
  }
 },
 "nbformat": 4,
 "nbformat_minor": 2
}
